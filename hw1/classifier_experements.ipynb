{
 "cells": [
  {
   "cell_type": "markdown",
   "metadata": {},
   "source": [
    "# Notebook with experements for participant in text classification"
   ]
  },
  {
   "cell_type": "markdown",
   "metadata": {},
   "source": [
    "## import bibliotek and fetch data"
   ]
  },
  {
   "cell_type": "code",
   "execution_count": 12,
   "metadata": {},
   "outputs": [],
   "source": [
    "import pandas as pd\n",
    "from pathlib import Path\n",
    "from transformers import BertTokenizer, BertModel, BertConfig, DistilBertModel, DistilBertConfig\n",
    "import torch\n",
    "from torch.utils.data import DataLoader\n",
    "from torch import nn\n",
    "from torch.nn import functional as F\n",
    "import numpy as np\n",
    "import matplotlib.pyplot as plt\n",
    "from catboost import CatBoostClassifier\n",
    "from nltk.tokenize import word_tokenize\n",
    "from sklearn.model_selection import train_test_split\n",
    "from sklearn.metrics import accuracy_score\n",
    "from IPython.display import clear_output\n",
    "import random\n",
    "from subprocess import Popen, PIPE\n",
    "import copy\n",
    "import warnings\n",
    "from tqdm import tqdm\n",
    "from math import ceil\n",
    "from gensim.models import Word2Vec\n",
    "\n",
    "\n",
    "def set_random_seed(seed=42):\n",
    "    torch.manual_seed(seed)\n",
    "    np.random.seed(seed)\n",
    "    random.seed(seed)\n",
    "    if torch.cuda.is_available():\n",
    "        torch.cuda.manual_seed_all(seed)\n",
    "\n",
    "def run_command(cmd: list, cwd='.', wait=True):\n",
    "    p = Popen(cmd, cwd=cwd, stdout=PIPE, stderr=PIPE)\n",
    "    if wait:\n",
    "        p.wait()\n",
    "        err = p.stderr.read().decode('utf-8')\n",
    "        if err:\n",
    "            print('Got error while executing \"', *cmd, f'\": {err}')\n",
    "\n",
    "    return p\n",
    "\n",
    "\n",
    "def save_df_zip(df: pd.DataFrame, out = 'res'):\n",
    "    df.to_csv(out + '.csv', index=False)\n",
    "    run_command(['zip', '-r', out + '.zip', out + '.csv'], wait=True)\n",
    "\n",
    "\n",
    "set_random_seed()\n",
    "\n",
    "data_dir = Path('public_data')"
   ]
  },
  {
   "cell_type": "code",
   "execution_count": 13,
   "metadata": {},
   "outputs": [
    {
     "data": {
      "text/html": [
       "<div>\n",
       "<style scoped>\n",
       "    .dataframe tbody tr th:only-of-type {\n",
       "        vertical-align: middle;\n",
       "    }\n",
       "\n",
       "    .dataframe tbody tr th {\n",
       "        vertical-align: top;\n",
       "    }\n",
       "\n",
       "    .dataframe thead th {\n",
       "        text-align: right;\n",
       "    }\n",
       "</style>\n",
       "<table border=\"1\" class=\"dataframe\">\n",
       "  <thead>\n",
       "    <tr style=\"text-align: right;\">\n",
       "      <th></th>\n",
       "      <th>id</th>\n",
       "      <th>message</th>\n",
       "      <th>category</th>\n",
       "    </tr>\n",
       "  </thead>\n",
       "  <tbody>\n",
       "    <tr>\n",
       "      <th>0</th>\n",
       "      <td>271828</td>\n",
       "      <td>Over $616 million in Bitcoin was electrocated ...</td>\n",
       "      <td>1</td>\n",
       "    </tr>\n",
       "    <tr>\n",
       "      <th>1</th>\n",
       "      <td>271829</td>\n",
       "      <td>Quiz: Thursday or friday?</td>\n",
       "      <td>0</td>\n",
       "    </tr>\n",
       "    <tr>\n",
       "      <th>2</th>\n",
       "      <td>271830</td>\n",
       "      <td>The Australian Revenue Authority will start co...</td>\n",
       "      <td>1</td>\n",
       "    </tr>\n",
       "    <tr>\n",
       "      <th>3</th>\n",
       "      <td>271831</td>\n",
       "      <td>Let's continue😉. I present to you my new review</td>\n",
       "      <td>2</td>\n",
       "    </tr>\n",
       "    <tr>\n",
       "      <th>4</th>\n",
       "      <td>271832</td>\n",
       "      <td>Here comes your future palette.</td>\n",
       "      <td>2</td>\n",
       "    </tr>\n",
       "  </tbody>\n",
       "</table>\n",
       "</div>"
      ],
      "text/plain": [
       "       id                                            message  category\n",
       "0  271828  Over $616 million in Bitcoin was electrocated ...         1\n",
       "1  271829                          Quiz: Thursday or friday?         0\n",
       "2  271830  The Australian Revenue Authority will start co...         1\n",
       "3  271831   Let's continue😉. I present to you my new review          2\n",
       "4  271832                    Here comes your future palette.         2"
      ]
     },
     "execution_count": 13,
     "metadata": {},
     "output_type": "execute_result"
    }
   ],
   "source": [
    "def get_train_df():\n",
    "    df = pd.read_csv(data_dir / 'train_data.csv')\n",
    "    df['category'] = 0\n",
    "    res_df = pd.read_csv(data_dir / 'train_solution.csv')\n",
    "    df.loc[df['id'].isin(res_df[res_df['category'] == 1]['id']), 'category'] = 1\n",
    "    df.loc[df['id'].isin(res_df[res_df['category'] == 2]['id']), 'category'] = 2\n",
    "    return df\n",
    "\n",
    "df = get_train_df()\n",
    "test_df = pd.read_csv(data_dir / 'test_data.csv')\n",
    "\n",
    "# Collected from telegram open chats\n",
    "additional_df = pd.read_csv('additional_data.csv')\n",
    "df.head()"
   ]
  },
  {
   "cell_type": "markdown",
   "metadata": {},
   "source": [
    "## Experements"
   ]
  },
  {
   "cell_type": "markdown",
   "metadata": {},
   "source": [
    "### Catboost over one hot encoded message (0.81 on public/0.91 on private)"
   ]
  },
  {
   "cell_type": "code",
   "execution_count": 14,
   "metadata": {},
   "outputs": [],
   "source": [
    "tokens_dict = {}\n",
    "def tokenize(msg):\n",
    "    return word_tokenize(msg.lower(), preserve_line=True)\n",
    "\n",
    "def score(model, x, y):\n",
    "    preds = model.predict(x)\n",
    "    return accuracy_score(preds, y)\n",
    "\n",
    "for _, row in df.iterrows():\n",
    "    msg = tokenize(row['message'])\n",
    "    for word in msg:\n",
    "        if word not in tokens_dict:\n",
    "            tokens_dict[word] = 0\n",
    "        tokens_dict[word] += 1"
   ]
  },
  {
   "cell_type": "code",
   "execution_count": 15,
   "metadata": {},
   "outputs": [
    {
     "data": {
      "text/plain": [
       "21398"
      ]
     },
     "execution_count": 15,
     "metadata": {},
     "output_type": "execute_result"
    }
   ],
   "source": [
    "all_tokens = list(tokens_dict.items())\n",
    "all_tokens.sort(key=lambda x: x[1], reverse=True)\n",
    "len(all_tokens)"
   ]
  },
  {
   "cell_type": "code",
   "execution_count": 16,
   "metadata": {},
   "outputs": [],
   "source": [
    "popular_tokens = all_tokens[:2500]\n",
    "tokens = list(x[0] for x in popular_tokens)\n",
    "tokens2ids = dict((x, i) for i, x in enumerate(tokens))\n"
   ]
  },
  {
   "cell_type": "code",
   "execution_count": 17,
   "metadata": {},
   "outputs": [],
   "source": [
    "def get_encoding_from_msg(msg):\n",
    "    tokenized_msg = tokenize(msg)\n",
    "    res = np.zeros(len(tokens2ids), dtype=int)\n",
    "    for token in tokenized_msg:\n",
    "        if token in tokens2ids:\n",
    "            res[tokens2ids[token]] = 1\n",
    "\n",
    "    return res\n",
    "\n",
    "\n",
    "def make_dataset(df, train=True):\n",
    "    res = []\n",
    "    y = []\n",
    "    ids = []\n",
    "    if 'category' not in df.columns:\n",
    "        train=False\n",
    "\n",
    "    for _, row in df.iterrows():\n",
    "        try:\n",
    "            ids.append(row['id'])\n",
    "            res.append(get_encoding_from_msg(row['message']))\n",
    "        except:\n",
    "            print(row)\n",
    "        if train:\n",
    "            y.append(row['category'])\n",
    "\n",
    "    return np.array(ids), np.array(res), np.array(y) if train else None\n",
    "\n",
    "_, x, y = make_dataset(df)\n",
    "_, x_add, y_add = make_dataset(additional_df)\n",
    "ids_test, x_test, _ = make_dataset(test_df)"
   ]
  },
  {
   "cell_type": "code",
   "execution_count": 18,
   "metadata": {},
   "outputs": [
    {
     "data": {
      "text/plain": [
       "((10363,), (10363, 2500))"
      ]
     },
     "execution_count": 18,
     "metadata": {},
     "output_type": "execute_result"
    }
   ],
   "source": [
    "big_x = np.append(x, x_add, axis=0)\n",
    "big_y = np.append(y, y_add)\n",
    "big_y.shape, big_x.shape"
   ]
  },
  {
   "cell_type": "code",
   "execution_count": 19,
   "metadata": {},
   "outputs": [],
   "source": [
    "x_train, x_val, y_train, y_val = train_test_split(big_x, big_y, test_size=0.1, stratify=big_y, random_state=997)"
   ]
  },
  {
   "cell_type": "code",
   "execution_count": 20,
   "metadata": {},
   "outputs": [
    {
     "data": {
      "text/plain": [
       "0.7675988428158148"
      ]
     },
     "execution_count": 20,
     "metadata": {},
     "output_type": "execute_result"
    }
   ],
   "source": [
    "set_random_seed(997)\n",
    "cb = CatBoostClassifier(depth=8)\n",
    "cb.fit(x_train, y_train)\n",
    "clear_output()\n",
    "score(cb, x_val, y_val)"
   ]
  },
  {
   "cell_type": "code",
   "execution_count": 21,
   "metadata": {},
   "outputs": [],
   "source": [
    "def get_confident_preds(model, x, threshold=0.91):\n",
    "    preds = model.predict_proba(x)\n",
    "    d = np.array(list(preds[i, t] for i, t in enumerate(np.argmax(preds, axis=-1))))\n",
    "    res = -np.ones(d.shape[0], dtype=int)\n",
    "    where = np.where(d > threshold)[0]\n",
    "    res[where] = model.predict(x).reshape(-1)[where]\n",
    "    return res\n",
    "\n",
    "bp = get_confident_preds(cb, x_val)"
   ]
  },
  {
   "cell_type": "code",
   "execution_count": 23,
   "metadata": {},
   "outputs": [
    {
     "data": {
      "text/plain": [
       "(array(['project', 'i', ':', '.'], dtype='<U16'),\n",
       " array([3.44154297, 3.80198443, 4.08883288, 6.45054394]))"
      ]
     },
     "execution_count": 23,
     "metadata": {},
     "output_type": "execute_result"
    }
   ],
   "source": [
    "v = 4\n",
    "a = cb.feature_importances_\n",
    "important_tokens = np.argpartition(a, -v)[-v:]\n",
    "np.array(tokens)[important_tokens], cb.feature_importances_[important_tokens]"
   ]
  },
  {
   "cell_type": "code",
   "execution_count": 33,
   "metadata": {},
   "outputs": [],
   "source": [
    "set_random_seed(997)\n",
    "cb = CatBoostClassifier(depth=8)\n",
    "cb.fit(x, y)\n",
    "clear_output()\n",
    "res_cb = cb.predict(x_test)"
   ]
  },
  {
   "cell_type": "code",
   "execution_count": 35,
   "metadata": {},
   "outputs": [],
   "source": [
    "res_df = pd.DataFrame({'id': ids_test, 'category': res_cb.reshape(-1)})\n",
    "save_df_zip(res_df)"
   ]
  },
  {
   "cell_type": "markdown",
   "metadata": {},
   "source": [
    "## Word2vec training"
   ]
  },
  {
   "cell_type": "code",
   "execution_count": 27,
   "metadata": {},
   "outputs": [],
   "source": [
    "big_df = pd.concat((df, additional_df))\n",
    "all_messages = list(df['message'].values) + list(test_df['message'].values)\n",
    "msg_words = [tokenize(msg) for msg in all_messges]\n"
   ]
  },
  {
   "cell_type": "code",
   "execution_count": 36,
   "metadata": {},
   "outputs": [
    {
     "name": "stderr",
     "output_type": "stream",
     "text": [
      "/Users/panesher/miniconda3/lib/python3.9/site-packages/gensim/models/base_any2vec.py:322: UserWarning: C extension not loaded, training will be slow. Install a C compiler and reinstall gensim for fast training.\n",
      "  warnings.warn(\n"
     ]
    }
   ],
   "source": [
    "size = 256\n",
    "model_w2v = Word2Vec(msg_words, window=4, size=size, min_count=2, workers=8)"
   ]
  },
  {
   "cell_type": "code",
   "execution_count": 37,
   "metadata": {},
   "outputs": [
    {
     "data": {
      "text/plain": [
       "(5697730, 8105880)"
      ]
     },
     "execution_count": 37,
     "metadata": {},
     "output_type": "execute_result"
    }
   ],
   "source": [
    "model_w2v.train(msg_words, total_examples=model_w2v.corpus_count, epochs=15)"
   ]
  },
  {
   "cell_type": "code",
   "execution_count": 38,
   "metadata": {},
   "outputs": [],
   "source": [
    "def w2v_transform(sent):\n",
    "    ans = np.zeros(size)\n",
    "    num_words = 0\n",
    "    for word in sent:\n",
    "        if word in model_w2v.wv:\n",
    "            ans += model_w2v.wv[word]\n",
    "            num_words += 1\n",
    "\n",
    "    return ans\n",
    "\n",
    "\n",
    "def w2v_transform_msg(msg):\n",
    "    return w2v_transform(tokenize(msg))\n",
    "\n",
    "\n",
    "x_w2v = np.array([*df['message'].apply(w2v_transform_msg)])\n",
    "x_test_w2v = np.array([*test_df['message'].apply(w2v_transform_msg)])"
   ]
  },
  {
   "cell_type": "code",
   "execution_count": 39,
   "metadata": {},
   "outputs": [],
   "source": [
    "add_x_w2v, add_y = np.array([*additional_df['message'].apply(w2v_transform_msg)]), np.array(additional_df['category'])"
   ]
  },
  {
   "cell_type": "code",
   "execution_count": 40,
   "metadata": {},
   "outputs": [],
   "source": [
    "x_train_w2v, x_val_w2v, y_train_w2v, y_val_w2v = train_test_split(x_w2v, y, test_size=0.1, stratify=y, random_state=997)"
   ]
  },
  {
   "cell_type": "markdown",
   "metadata": {},
   "source": [
    "## Catboost 2 model: 1 from 1 p. and one over w2v encodings (0.82 on public score)"
   ]
  },
  {
   "cell_type": "code",
   "execution_count": 41,
   "metadata": {},
   "outputs": [
    {
     "data": {
      "text/plain": [
       "0.8571428571428571"
      ]
     },
     "execution_count": 41,
     "metadata": {},
     "output_type": "execute_result"
    }
   ],
   "source": [
    "set_random_seed(997)\n",
    "cb_w2v = CatBoostClassifier(depth=8)\n",
    "cb_w2v.fit(x_train_w2v, y_train_w2v)\n",
    "clear_output()\n",
    "score(cb_w2v, x_val_w2v, y_val_w2v)"
   ]
  },
  {
   "cell_type": "code",
   "execution_count": 42,
   "metadata": {},
   "outputs": [],
   "source": [
    "set_random_seed(997)\n",
    "cb_w2v = CatBoostClassifier(depth=8)\n",
    "cb_w2v.fit(x_w2v, y)\n",
    "clear_output()"
   ]
  },
  {
   "cell_type": "code",
   "execution_count": 43,
   "metadata": {},
   "outputs": [],
   "source": [
    "res_cb = cb_w2v.predict(x_test_w2v)\n",
    "res_df = pd.DataFrame({'id': ids_test, 'category': res_cb.reshape(-1)})\n",
    "save_df_zip(res_df)"
   ]
  },
  {
   "cell_type": "code",
   "execution_count": 44,
   "metadata": {},
   "outputs": [],
   "source": [
    "_, x, y = make_dataset(df)\n",
    "ids_test, x_test, _ = make_dataset(test_df)\n",
    "x_train, x_val, y_train, y_val = train_test_split(x, y, test_size=0.1, stratify=y, random_state=997)"
   ]
  },
  {
   "cell_type": "code",
   "execution_count": 45,
   "metadata": {},
   "outputs": [],
   "source": [
    "set_random_seed(997)\n",
    "cb = CatBoostClassifier(depth=8)\n",
    "cb.fit(x, y)\n",
    "clear_output()"
   ]
  },
  {
   "cell_type": "code",
   "execution_count": 46,
   "metadata": {},
   "outputs": [],
   "source": [
    "def make_best_preds(cb, cb_w2v, x, x_w2v):\n",
    "    preds = [cb.predict_proba(x), cb_w2v.predict_proba(x_w2v)]\n",
    "    preds = np.concatenate(preds, axis=1)\n",
    "    return np.argmax(preds, axis=1) % 3\n",
    "\n",
    "p = make_best_preds(cb, cb_w2v, x_test, x_test_w2v)"
   ]
  },
  {
   "cell_type": "code",
   "execution_count": 47,
   "metadata": {},
   "outputs": [],
   "source": [
    "res_df = pd.DataFrame({'id': ids_test, 'category': p.reshape(-1)})\n",
    "save_df_zip(res_df)"
   ]
  },
  {
   "cell_type": "markdown",
   "metadata": {},
   "source": [
    "## Fully connected model over word2vec encodings (0.84/0.93)"
   ]
  },
  {
   "cell_type": "code",
   "execution_count": 56,
   "metadata": {},
   "outputs": [],
   "source": [
    "class Model(nn.Module):\n",
    "    def __init__(self, hidden_size=128, dropout=0.1):\n",
    "        super().__init__()\n",
    "        self.seq = nn.Sequential(\n",
    "            # here was from 3 to 6 layers\n",
    "            nn.Linear(size, hidden_size),\n",
    "            nn.ReLU(),\n",
    "            nn.Dropout(dropout),\n",
    "            nn.Linear(hidden_size, hidden_size),\n",
    "            nn.ReLU(),\n",
    "            nn.Dropout(dropout),\n",
    "            nn.Linear(hidden_size, hidden_size),\n",
    "            nn.ReLU(),\n",
    "            nn.Dropout(dropout),\n",
    "            nn.Linear(hidden_size, hidden_size),\n",
    "            nn.ReLU(),\n",
    "            nn.Dropout(dropout),\n",
    "            nn.Linear(hidden_size, 3),\n",
    "        )\n",
    "    \n",
    "    def forward(self, x):\n",
    "        return self.seq(x)\n",
    "\n",
    "\n",
    "class DS(torch.utils.data.Dataset):\n",
    "    def __init__(self, x, y = None, ids=None) -> None:\n",
    "        super().__init__()\n",
    "        self.x = x\n",
    "        self.y = y\n",
    "        self.ids = ids\n",
    "    \n",
    "    def __len__(self):\n",
    "        return len(self.x)\n",
    "    \n",
    "    def __getitem__(self, idx):\n",
    "        if self.y is None:\n",
    "            if self.ids is None:\n",
    "                return self.x[idx]\n",
    "\n",
    "            return self.ids[idx], self.x[idx]\n",
    "\n",
    "        return self.x[idx], self.y[idx]"
   ]
  },
  {
   "cell_type": "code",
   "execution_count": 57,
   "metadata": {},
   "outputs": [],
   "source": [
    "big_x = np.concatenate((add_x_w2v, x_train_w2v), axis=0)\n",
    "big_y = np.concatenate((add_y, y_train_w2v), axis=0)"
   ]
  },
  {
   "cell_type": "code",
   "execution_count": 58,
   "metadata": {},
   "outputs": [],
   "source": [
    "batch_size = 16\n",
    "\n",
    "# train_ds = DS(big_x, big_y)\n",
    "train_ds = DS(x_train_w2v, y_train_w2v)\n",
    "val_ds = DS(x_val_w2v, y_val_w2v)\n",
    "test_ds = DS(x_test_w2v, ids=ids_test)\n",
    "\n",
    "train_dl = torch.utils.data.DataLoader(train_ds, batch_size=batch_size)\n",
    "val_dl = torch.utils.data.DataLoader(val_ds, batch_size=batch_size)\n",
    "test_dl = torch.utils.data.DataLoader(test_ds, batch_size=batch_size)"
   ]
  },
  {
   "cell_type": "code",
   "execution_count": 59,
   "metadata": {},
   "outputs": [],
   "source": [
    "warnings.filterwarnings('ignore')\n",
    "device = 'cuda' if torch.cuda.is_available() else 'cpu'\n",
    "\n",
    "model_path = 'model_last.pt'\n",
    "model_best_path = 'model_best.pt'\n",
    "\n",
    "\n",
    "def train_epoch(model, optimizer):\n",
    "    loss_log, acc_log = [], []\n",
    "    model.train()\n",
    "    for x_batch, y_batch in tqdm(train_dl, total=ceil(len(train_ds) / batch_size)):\n",
    "        data = x_batch\n",
    "        target = y_batch\n",
    "\n",
    "        optimizer.zero_grad()\n",
    "        output = model(data)\n",
    "\n",
    "        pred = torch.argmax(output, dim=1)\n",
    "        acc = torch.eq(pred, y_batch).float().mean().cpu()\n",
    "        acc_log.append(acc)\n",
    "\n",
    "        loss = F.cross_entropy(output, target).cpu()\n",
    "        loss.backward()\n",
    "        loss_log.append(loss.item())\n",
    "        optimizer.step()\n",
    "\n",
    "    return loss_log, acc_log\n",
    "\n",
    "\n",
    "def test(model):\n",
    "    loss_log, acc_log = [], []\n",
    "    model.eval()\n",
    "    for x_batch, y_batch in tqdm(val_dl, total=ceil(len(val_ds) / batch_size)):\n",
    "        data = x_batch\n",
    "        target = y_batch\n",
    "\n",
    "        output = model(data)\n",
    "        loss = F.cross_entropy(output, target).cpu()\n",
    "\n",
    "        pred = torch.argmax(output, dim=1)\n",
    "        acc = torch.eq(pred, y_batch).float().mean().cpu()\n",
    "        acc_log.append(acc)\n",
    "\n",
    "        loss = loss.item()\n",
    "        loss_log.append(loss)\n",
    "\n",
    "    return loss_log, acc_log\n",
    "\n",
    "\n",
    "def plot_history(train_history, val_history, title='loss'):\n",
    "    plt.figure()\n",
    "    plt.title('{}'.format(title))\n",
    "    plt.plot(train_history, label='train', zorder=1)\n",
    "\n",
    "    points = np.array(val_history)\n",
    "\n",
    "    plt.scatter(points[:, 0], points[:, 1], marker='+',\n",
    "                s=180, c='orange', label='val', zorder=2)\n",
    "    plt.xlabel('train steps')\n",
    "\n",
    "    plt.legend(loc='best')\n",
    "    plt.grid()\n",
    "\n",
    "    plt.show()\n",
    "\n",
    "\n",
    "def train(model, opt, n_epochs):\n",
    "    train_log, train_acc_log = [], []\n",
    "    val_log, val_acc_log = [], []\n",
    "    best_acc = 0.\n",
    "\n",
    "    for epoch in range(n_epochs):\n",
    "        print(\"Epoch {0} of {1}\".format(epoch, n_epochs))\n",
    "        train_loss, train_acc = train_epoch(model, opt)\n",
    "        torch.save(model, model_path)\n",
    "\n",
    "        val_loss, val_acc = test(model)\n",
    "        if best_acc < np.mean(val_acc):\n",
    "            best_acc = np.mean(val_acc)\n",
    "            torch.save(model, model_best_path)\n",
    "\n",
    "        train_log.extend(train_loss)\n",
    "        train_acc_log.extend(train_acc)\n",
    "\n",
    "        steps = len(train_ds) / batch_size\n",
    "        val_log.append((steps * (epoch + 1), np.mean(val_loss)))\n",
    "        val_acc_log.append((steps * (epoch + 1), np.mean(val_acc)))\n",
    "\n",
    "        clear_output()\n",
    "        plot_history(train_log, val_log)\n",
    "        plot_history(train_acc_log, val_acc_log, title='accuracy')\n",
    "\n",
    "        print(\"Epoch: {2}, val loss: {0}, val accuracy: {1}\".format(\n",
    "            np.mean(val_loss), np.mean(val_acc), epoch))\n"
   ]
  },
  {
   "cell_type": "code",
   "execution_count": 60,
   "metadata": {},
   "outputs": [],
   "source": [
    "# тут точно не помню какие параметры на лучшей посылки, хотя результаты схожи ~0.84\n",
    "model = Model(256, 0.2).double()\n",
    "opt = torch.optim.Adam(model.parameters(), lr=3e-4)"
   ]
  },
  {
   "cell_type": "code",
   "execution_count": 61,
   "metadata": {},
   "outputs": [
    {
     "data": {
      "image/png": "[encoded data removed]",
      "text/plain": [
       "<Figure size 640x480 with 1 Axes>"
      ]
     },
     "metadata": {},
     "output_type": "display_data"
    },
    {
     "data": {
      "image/png": "[encoded data removed]",
      "text/plain": [
       "<Figure size 640x480 with 1 Axes>"
      ]
     },
     "metadata": {},
     "output_type": "display_data"
    },
    {
     "name": "stdout",
     "output_type": "stream",
     "text": [
      "Epoch: 9, val loss: 0.4318479710135479, val accuracy: 0.8650000095367432\n"
     ]
    }
   ],
   "source": [
    "train(model, opt, 10)"
   ]
  },
  {
   "cell_type": "code",
   "execution_count": 62,
   "metadata": {},
   "outputs": [
    {
     "name": "stderr",
     "output_type": "stream",
     "text": [
      "100%|██████████| 371/371 [00:00<00:00, 5409.90it/s]\n"
     ]
    }
   ],
   "source": [
    "def predict(model):\n",
    "    result = {\n",
    "        'id': [],\n",
    "        'category': []\n",
    "    }\n",
    "    model.eval()\n",
    "    for ids, x_batch in tqdm(test_dl, total=ceil(len(test_ds) / batch_size)):\n",
    "        with torch.no_grad():\n",
    "            pred = torch.argmax(model(x_batch), dim=1)\n",
    "            result['id'] += ids.tolist()\n",
    "            result['category'] += pred.tolist()\n",
    "\n",
    "    return pd.DataFrame(result)\n",
    "\n",
    "\n",
    "model = torch.load(model_best_path).to(device)\n",
    "res = predict(model)"
   ]
  },
  {
   "cell_type": "code",
   "execution_count": 63,
   "metadata": {},
   "outputs": [],
   "source": [
    "save_df_zip(res)"
   ]
  }
 ],
 "metadata": {
  "kernelspec": {
   "display_name": "Python 3.9.12 64-bit ('miniconda3')",
   "language": "python",
   "name": "python3"
  },
  "language_info": {
   "codemirror_mode": {
    "name": "ipython",
    "version": 3
   },
   "file_extension": ".py",
   "mimetype": "text/x-python",
   "name": "python",
   "nbconvert_exporter": "python",
   "pygments_lexer": "ipython3",
   "version": "3.9.12"
  },
  "orig_nbformat": 4,
  "vscode": {
   "interpreter": {
    "hash": "24f792973ec11b47f8dd64a83177ed346d5171e3aa1ef0ed31974f0bdbc6a08a"
   }
  }
 },
 "nbformat": 4,
 "nbformat_minor": 2
}
